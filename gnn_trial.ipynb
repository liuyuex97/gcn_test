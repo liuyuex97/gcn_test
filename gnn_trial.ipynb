{
 "cells": [
  {
   "cell_type": "code",
   "execution_count": 1,
   "metadata": {},
   "outputs": [
    {
     "name": "stderr",
     "output_type": "stream",
     "text": [
      "Using TensorFlow backend.\n"
     ]
    }
   ],
   "source": [
    "from keras import Input, Model\n",
    "from keras.callbacks import EarlyStopping\n",
    "from keras.layers import Dense, Flatten\n",
    "from keras.optimizers import Adam\n",
    "from keras.regularizers import l2\n",
    "\n",
    "from spektral.datasets import mnist\n",
    "from spektral.layers import GraphConv\n",
    "from spektral.layers.ops import sp_matrix_to_sp_tensor\n",
    "from spektral.utils import normalized_laplacian"
   ]
  },
  {
   "cell_type": "code",
   "execution_count": 2,
   "metadata": {},
   "outputs": [
    {
     "name": "stdout",
     "output_type": "stream",
     "text": [
      "Downloading data from https://s3.amazonaws.com/img-datasets/mnist.npz\n",
      "11493376/11490434 [==============================] - 3s 0us/step\n",
      "WARNING:tensorflow:From /home/louise/anaconda2/envs/env3/lib/python3.6/site-packages/keras/backend/tensorflow_backend.py:66: The name tf.get_default_graph is deprecated. Please use tf.compat.v1.get_default_graph instead.\n",
      "\n",
      "WARNING:tensorflow:From /home/louise/anaconda2/envs/env3/lib/python3.6/site-packages/keras/backend/tensorflow_backend.py:541: The name tf.placeholder is deprecated. Please use tf.compat.v1.placeholder instead.\n",
      "\n",
      "WARNING:tensorflow:From /home/louise/anaconda2/envs/env3/lib/python3.6/site-packages/keras/backend/tensorflow_backend.py:4432: The name tf.random_uniform is deprecated. Please use tf.random.uniform instead.\n",
      "\n",
      "WARNING:tensorflow:From /home/louise/anaconda2/envs/env3/lib/python3.6/site-packages/spektral/layers/ops.py:331: The name tf.sparse_tensor_dense_matmul is deprecated. Please use tf.sparse.sparse_dense_matmul instead.\n",
      "\n",
      "WARNING:tensorflow:From /home/louise/anaconda2/envs/env3/lib/python3.6/site-packages/keras/optimizers.py:793: The name tf.train.Optimizer is deprecated. Please use tf.compat.v1.train.Optimizer instead.\n",
      "\n",
      "WARNING:tensorflow:From /home/louise/anaconda2/envs/env3/lib/python3.6/site-packages/keras/backend/tensorflow_backend.py:3622: The name tf.log is deprecated. Please use tf.math.log instead.\n",
      "\n",
      "Model: \"model_1\"\n",
      "__________________________________________________________________________________________________\n",
      "Layer (type)                    Output Shape         Param #     Connected to                     \n",
      "==================================================================================================\n",
      "input_1 (InputLayer)            (None, 784, 1)       0                                            \n",
      "__________________________________________________________________________________________________\n",
      "input_2 (InputLayer)            (784, 784)           0                                            \n",
      "__________________________________________________________________________________________________\n",
      "graph_conv_1 (GraphConv)        (None, 784, 32)      64          input_1[0][0]                    \n",
      "                                                                 input_2[0][0]                    \n",
      "__________________________________________________________________________________________________\n",
      "graph_conv_2 (GraphConv)        (None, 784, 32)      1056        graph_conv_1[0][0]               \n",
      "                                                                 input_2[0][0]                    \n",
      "__________________________________________________________________________________________________\n",
      "flatten_1 (Flatten)             (None, 25088)        0           graph_conv_2[0][0]               \n",
      "__________________________________________________________________________________________________\n",
      "dense_1 (Dense)                 (None, 512)          12845568    flatten_1[0][0]                  \n",
      "__________________________________________________________________________________________________\n",
      "dense_2 (Dense)                 (None, 10)           5130        dense_1[0][0]                    \n",
      "==================================================================================================\n",
      "Total params: 12,851,818\n",
      "Trainable params: 12,851,818\n",
      "Non-trainable params: 0\n",
      "__________________________________________________________________________________________________\n",
      "WARNING:tensorflow:From /home/louise/anaconda2/envs/env3/lib/python3.6/site-packages/tensorflow_core/python/ops/math_grad.py:1424: where (from tensorflow.python.ops.array_ops) is deprecated and will be removed in a future version.\n",
      "Instructions for updating:\n",
      "Use tf.where in 2.0, which has the same broadcast rule as np.where\n",
      "WARNING:tensorflow:From /home/louise/anaconda2/envs/env3/lib/python3.6/site-packages/keras/backend/tensorflow_backend.py:1033: The name tf.assign_add is deprecated. Please use tf.compat.v1.assign_add instead.\n",
      "\n",
      "WARNING:tensorflow:From /home/louise/anaconda2/envs/env3/lib/python3.6/site-packages/keras/backend/tensorflow_backend.py:1020: The name tf.assign is deprecated. Please use tf.compat.v1.assign instead.\n",
      "\n",
      "WARNING:tensorflow:From /home/louise/anaconda2/envs/env3/lib/python3.6/site-packages/keras/backend/tensorflow_backend.py:3005: The name tf.Session is deprecated. Please use tf.compat.v1.Session instead.\n",
      "\n",
      "Train on 50000 samples, validate on 10000 samples\n",
      "Epoch 1/1000\n",
      "WARNING:tensorflow:From /home/louise/anaconda2/envs/env3/lib/python3.6/site-packages/keras/backend/tensorflow_backend.py:190: The name tf.get_default_session is deprecated. Please use tf.compat.v1.get_default_session instead.\n",
      "\n",
      "WARNING:tensorflow:From /home/louise/anaconda2/envs/env3/lib/python3.6/site-packages/keras/backend/tensorflow_backend.py:197: The name tf.ConfigProto is deprecated. Please use tf.compat.v1.ConfigProto instead.\n",
      "\n",
      "WARNING:tensorflow:From /home/louise/anaconda2/envs/env3/lib/python3.6/site-packages/keras/backend/tensorflow_backend.py:207: The name tf.global_variables is deprecated. Please use tf.compat.v1.global_variables instead.\n",
      "\n",
      "WARNING:tensorflow:From /home/louise/anaconda2/envs/env3/lib/python3.6/site-packages/keras/backend/tensorflow_backend.py:216: The name tf.is_variable_initialized is deprecated. Please use tf.compat.v1.is_variable_initialized instead.\n",
      "\n",
      "WARNING:tensorflow:From /home/louise/anaconda2/envs/env3/lib/python3.6/site-packages/keras/backend/tensorflow_backend.py:223: The name tf.variables_initializer is deprecated. Please use tf.compat.v1.variables_initializer instead.\n",
      "\n",
      "50000/50000 [==============================] - 156s 3ms/step - loss: 0.5948 - acc: 0.8200 - val_loss: 0.3680 - val_acc: 0.8926\n",
      "Epoch 2/1000\n",
      "50000/50000 [==============================] - 157s 3ms/step - loss: 0.1947 - acc: 0.9430 - val_loss: 0.3251 - val_acc: 0.9048\n",
      "Epoch 3/1000\n",
      "50000/50000 [==============================] - 156s 3ms/step - loss: 0.0995 - acc: 0.9721 - val_loss: 0.3847 - val_acc: 0.9103\n",
      "Epoch 4/1000\n",
      "50000/50000 [==============================] - 155s 3ms/step - loss: 0.0733 - acc: 0.9803 - val_loss: 0.3794 - val_acc: 0.9099\n",
      "Epoch 5/1000\n",
      "50000/50000 [==============================] - 154s 3ms/step - loss: 0.0576 - acc: 0.9854 - val_loss: 0.4067 - val_acc: 0.9078\n",
      "Epoch 6/1000\n",
      "50000/50000 [==============================] - 155s 3ms/step - loss: 0.0505 - acc: 0.9873 - val_loss: 0.5420 - val_acc: 0.9095\n",
      "Epoch 7/1000\n",
      "50000/50000 [==============================] - 155s 3ms/step - loss: 0.0485 - acc: 0.9880 - val_loss: 0.5364 - val_acc: 0.9136\n",
      "Epoch 8/1000\n",
      "50000/50000 [==============================] - 156s 3ms/step - loss: 0.0456 - acc: 0.9894 - val_loss: 0.4925 - val_acc: 0.9189\n",
      "Epoch 9/1000\n",
      "50000/50000 [==============================] - 156s 3ms/step - loss: 0.0427 - acc: 0.9903 - val_loss: 0.5053 - val_acc: 0.9147\n",
      "Epoch 10/1000\n",
      "50000/50000 [==============================] - 155s 3ms/step - loss: 0.0361 - acc: 0.9922 - val_loss: 0.5703 - val_acc: 0.9168\n",
      "Epoch 11/1000\n",
      "50000/50000 [==============================] - 153s 3ms/step - loss: 0.0421 - acc: 0.9906 - val_loss: 0.4868 - val_acc: 0.9182\n",
      "Epoch 12/1000\n",
      "50000/50000 [==============================] - 153s 3ms/step - loss: 0.0340 - acc: 0.9929 - val_loss: 0.5537 - val_acc: 0.9152\n",
      "Evaluating model.\n",
      "10000/10000 [==============================] - 3s 252us/step\n",
      "Done.\n",
      "Test loss: 0.3235746894299984\n",
      "Test acc: 0.9063\n"
     ]
    }
   ],
   "source": [
    "# Parameters\n",
    "l2_reg = 5e-4         # Regularization rate for l2\n",
    "learning_rate = 1e-3  # Learning rate for SGD\n",
    "batch_size = 32       # Batch size\n",
    "epochs = 1000         # Number of training epochs\n",
    "es_patience = 10     # Patience fot early stopping\n",
    "\n",
    "# Load data\n",
    "X_train, y_train, X_val, y_val, X_test, y_test, adj = mnist.load_data()\n",
    "X_train, X_val, X_test = X_train[..., None], X_val[..., None], X_test[..., None]\n",
    "N = X_train.shape[-2]      # Number of nodes in the graphs\n",
    "F = X_train.shape[-1]      # Node features dimensionality\n",
    "n_out = 10  # Dimension of the target\n",
    "\n",
    "fltr = normalized_laplacian(adj)\n",
    "\n",
    "# Model definition\n",
    "X_in = Input(shape=(N, F))\n",
    "# Pass A as a fixed tensor, otherwise Keras will complain about inputs of\n",
    "# different rank.\n",
    "A_in = Input(tensor=sp_matrix_to_sp_tensor(fltr))\n",
    "\n",
    "graph_conv = GraphConv(32,\n",
    "                       activation='elu',\n",
    "                       kernel_regularizer=l2(l2_reg),\n",
    "                       use_bias=True)([X_in, A_in])\n",
    "graph_conv = GraphConv(32,\n",
    "                       activation='elu',\n",
    "                       kernel_regularizer=l2(l2_reg),\n",
    "                       use_bias=True)([graph_conv, A_in])\n",
    "flatten = Flatten()(graph_conv)\n",
    "fc = Dense(512, activation='relu')(flatten)\n",
    "output = Dense(n_out, activation='softmax')(fc)\n",
    "\n",
    "# Build model\n",
    "model = Model(inputs=[X_in, A_in], outputs=output)\n",
    "optimizer = Adam(lr=learning_rate)\n",
    "model.compile(optimizer=optimizer,\n",
    "              loss='sparse_categorical_crossentropy',\n",
    "              metrics=['acc'])\n",
    "model.summary()\n",
    "\n",
    "# Train model\n",
    "validation_data = (X_val, y_val)\n",
    "model.fit(X_train,\n",
    "          y_train,\n",
    "          batch_size=batch_size,\n",
    "          validation_data=validation_data,\n",
    "          epochs=epochs, \n",
    "          callbacks=[\n",
    "              EarlyStopping(patience=es_patience, restore_best_weights=True)\n",
    "          ])\n",
    "\n",
    "# Evaluate model\n",
    "print('Evaluating model.')\n",
    "eval_results = model.evaluate(X_test,\n",
    "                              y_test,\n",
    "                              batch_size=batch_size)\n",
    "print('Done.\\n'\n",
    "      'Test loss: {}\\n'\n",
    "      'Test acc: {}'.format(*eval_results))"
   ]
  },
  {
   "cell_type": "code",
   "execution_count": 5,
   "metadata": {},
   "outputs": [],
   "source": [
    "from spektral.utils.data import Batch                                                               \n",
    "import numpy as np"
   ]
  },
  {
   "cell_type": "code",
   "execution_count": 9,
   "metadata": {},
   "outputs": [],
   "source": [
    "A_list = np.ones((2, 2))"
   ]
  },
  {
   "cell_type": "code",
   "execution_count": 10,
   "metadata": {},
   "outputs": [
    {
     "name": "stdout",
     "output_type": "stream",
     "text": [
      "[[1. 1.]\n",
      " [1. 1.]]\n"
     ]
    }
   ],
   "source": [
    "print(A_list)"
   ]
  },
  {
   "cell_type": "code",
   "execution_count": 5,
   "metadata": {},
   "outputs": [],
   "source": [
    "import numpy as np\n",
    "import pandas as pd\n",
    "from numpy import linalg as LA\n",
    "import matplotlib.pyplot as plt\n",
    "from mpl_toolkits.mplot3d import Axes3D\n",
    "import math\n",
    "from scipy.optimize import minimize\n",
    "from sklearn.neighbors import NearestNeighbors\n",
    "from multiprocessing import Pool\n",
    "\n",
    "# k nearest neighbors\n",
    "knn = 200\n",
    "\n",
    "# weighting paras\n",
    "alpha = 0.05  # penalty on the optimization distance between p_star\n",
    "beta = 0.5   # penalty on the points that far away from p_tilda\n",
    "lamda = 0.5  # penalty on the points that does not belong to this plane\n",
    "miu = 0.0001  # for even distribution\n",
    "\n",
    "# boundary for paras\n",
    "bnd1 = (-math.inf,math.inf)\n",
    "bnd2 = (-math.inf,math.inf)\n",
    "bnd3 = (-math.inf,math.inf)\n",
    "bnd4 = (0,math.pi*2)\n",
    "bnd5 = (0,math.pi*2)\n",
    "bnd = (bnd1,bnd2,bnd3,bnd4,bnd5)\n",
    "\n",
    "def knnindices(X,K):\n",
    "    nbrs = NearestNeighbors(n_neighbors=K, algorithm='kd_tree').fit(X)\n",
    "    # indices.shape = (M,K)\n",
    "    distances, indices = nbrs.kneighbors(X)\n",
    "\n",
    "    return distances, indices"
   ]
  },
  {
   "cell_type": "code",
   "execution_count": 7,
   "metadata": {},
   "outputs": [],
   "source": [
    "rawData = pd.read_csv('array.csv').values\n",
    "windowData = rawData[:,2:5]"
   ]
  },
  {
   "cell_type": "code",
   "execution_count": 10,
   "metadata": {},
   "outputs": [],
   "source": [
    "distance, indices = knnindices(windowData, knn)\n",
    "mean_distance = np.mean(distance,axis=1).reshape(windowData.shape[0],)"
   ]
  },
  {
   "cell_type": "code",
   "execution_count": 16,
   "metadata": {},
   "outputs": [
    {
     "name": "stdout",
     "output_type": "stream",
     "text": [
      "[[     0     59    868 ...   5129   7397   8517]\n",
      " [     1    888     66 ...   9670   9664    879]\n",
      " [     2    381     74 ...   9680    369   4066]\n",
      " ...\n",
      " [717169 717038 716854 ... 716348 716614 714293]\n",
      " [717170 717138 716859 ... 715593 715062 715338]\n",
      " [717171 717143 716877 ... 715856 715333 431501]]\n"
     ]
    }
   ],
   "source": [
    "print(indices)"
   ]
  },
  {
   "cell_type": "code",
   "execution_count": 17,
   "metadata": {},
   "outputs": [],
   "source": [
    "mean_distance = np.mean(distance,axis=1).reshape(windowData.shape[0],)"
   ]
  },
  {
   "cell_type": "code",
   "execution_count": 18,
   "metadata": {},
   "outputs": [],
   "source": [
    "threshold = np.percentile(mean_distance,98)"
   ]
  },
  {
   "cell_type": "code",
   "execution_count": 21,
   "metadata": {},
   "outputs": [
    {
     "name": "stdout",
     "output_type": "stream",
     "text": [
      "threshold is:  0.011067952260191303\n",
      "(702828, 3)\n"
     ]
    }
   ],
   "source": [
    "print(\"threshold is: \",threshold)    \n",
    "qualified_data = windowData[mean_distance<threshold]\n",
    "print(qualified_data.shape)"
   ]
  },
  {
   "cell_type": "code",
   "execution_count": 22,
   "metadata": {},
   "outputs": [
    {
     "data": {
      "image/png": "[encoded data removed]",
      "text/plain": [
       "<Figure size 432x288 with 1 Axes>"
      ]
     },
     "metadata": {
      "needs_background": "light"
     },
     "output_type": "display_data"
    }
   ],
   "source": [
    "plt.hist(mean_distance, bins=1000)\n",
    "plt.xlabel('mean distance')\n",
    "plt.ylabel('number')\n",
    "plt.xlim(0, 0.03)\n",
    "plt.show()"
   ]
  },
  {
   "cell_type": "code",
   "execution_count": 4,
   "metadata": {},
   "outputs": [],
   "source": [
    "# modules for aggregating embeddings of neighbors\n",
    "\n",
    "import torch\n",
    "import torch.nn as nn\n",
    "from torch.autograd import Variable\n",
    "\n",
    "import random"
   ]
  },
  {
   "cell_type": "code",
   "execution_count": null,
   "metadata": {},
   "outputs": [],
   "source": [
    "# DIFFPOOL aggregate a node's embeddings using mean of neighbors embeddings\n",
    "\n",
    "def forward(nodes, to_neighs, num_sample=10):\n",
    "    \n",
    "\n",
    "\n",
    "\n",
    "\n",
    "\n",
    "\n"
   ]
  }
 ],
 "metadata": {
  "kernelspec": {
   "display_name": "Python 3",
   "language": "python",
   "name": "python3"
  },
  "language_info": {
   "codemirror_mode": {
    "name": "ipython",
    "version": 3
   },
   "file_extension": ".py",
   "mimetype": "text/x-python",
   "name": "python",
   "nbconvert_exporter": "python",
   "pygments_lexer": "ipython3",
   "version": "3.6.9"
  }
 },
 "nbformat": 4,
 "nbformat_minor": 2
}
